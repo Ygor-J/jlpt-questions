{
 "cells": [
  {
   "cell_type": "markdown",
   "metadata": {},
   "source": [
    "# Part 1:\n",
    "\n",
    "1. Our goal here is to first create our duckdb database in a persistent way so it will be stored in disk (as opposed to being stored in memory)\n",
    "2. We will create table schema and insert a few values"
   ]
  },
  {
   "cell_type": "code",
   "execution_count": 4,
   "metadata": {},
   "outputs": [],
   "source": [
    "import duckdb\n",
    "import pandas as pd"
   ]
  },
  {
   "cell_type": "code",
   "execution_count": 5,
   "metadata": {},
   "outputs": [],
   "source": [
    "DUCKDB_URI = 'database_duckdb.db' # The path of duckdb database\n",
    "con = duckdb.connect(database = DUCKDB_URI)"
   ]
  },
  {
   "cell_type": "code",
   "execution_count": 3,
   "metadata": {},
   "outputs": [
    {
     "data": {
      "text/plain": [
       "<duckdb.duckdb.DuckDBPyConnection at 0x7927b49a7e30>"
      ]
     },
     "execution_count": 3,
     "metadata": {},
     "output_type": "execute_result"
    }
   ],
   "source": [
    "query = '''\n",
    "\n",
    "    CREATE TABLE jlpt_questions (\n",
    "\n",
    "        question_id INT PRIMARY KEY,\n",
    "        question_str TEXT NOT NULL,\n",
    "        question_choices JSON NOT NULL,\n",
    "        question_answer CHAR(1),\n",
    "        question_level CHAR(2),\n",
    "        question_explanation TEXT,\n",
    "        question_type TEXT,\n",
    "        question_topics TEXT\n",
    "    )\n",
    "\n",
    "'''\n",
    "\n",
    "con.execute(query)"
   ]
  },
  {
   "cell_type": "code",
   "execution_count": 14,
   "metadata": {},
   "outputs": [
    {
     "data": {
      "text/plain": [
       "<duckdb.duckdb.DuckDBPyConnection at 0x726ab8b849b0>"
      ]
     },
     "execution_count": 14,
     "metadata": {},
     "output_type": "execute_result"
    }
   ],
   "source": [
    "con.execute('DELETE FROM jlpt_questions')"
   ]
  },
  {
   "cell_type": "code",
   "execution_count": 15,
   "metadata": {},
   "outputs": [
    {
     "name": "stdout",
     "output_type": "stream",
     "text": [
      "[]\n"
     ]
    }
   ],
   "source": [
    "con.execute('SELECT * FROM jlpt_questions')\n",
    "print(con.fetchall())"
   ]
  },
  {
   "cell_type": "code",
   "execution_count": 12,
   "metadata": {},
   "outputs": [
    {
     "name": "stdout",
     "output_type": "stream",
     "text": [
      "[(1, 'ケネディ殺害の容疑者は _______ に謎を残したままマフィアに撃たれて死亡した。', '{\"1\":\"動機\",\"2\":\"本音\",\"3\":\"動力\",\"4\":\"下心\"}', '1', 'n1', '', 'vocabulary', '')]\n"
     ]
    }
   ],
   "source": [
    "data = {'question_str': 'ケネディ殺害の容疑者は _______ に謎を残したままマフィアに撃たれて死亡した。', 'question_choices': \"{'1': '動機', '2': '本音', '3': '動力', '4': '下心'}\", 'question_answer': '1', 'question_level': 'n1', 'question_explanation': '', 'question_type': 'vocabulary', 'question_topics': '', 'question_id': 1}\n",
    "query = f'''\n",
    "\n",
    "    INSERT INTO jlpt_questions (question_id, question_str, question_choices, question_answer, question_level, question_explanation, question_type, question_topics)\n",
    "    VALUES\n",
    "    (\n",
    "        {data['question_id']},\n",
    "        '{data['question_str']}',\n",
    "        {data['question_choices']},\n",
    "        '{data['question_answer']}',\n",
    "        '{data['question_level']}',\n",
    "        '{data['question_explanation']}',\n",
    "        '{data['question_type']}',\n",
    "        '{data['question_topics']}'\n",
    "\n",
    "    )\n",
    "\n",
    "'''\n",
    "\n",
    "con.execute(query)\n",
    "\n",
    "con.execute(\"SELECT * FROM jlpt_questions\")\n",
    "print(con.fetchall())"
   ]
  },
  {
   "cell_type": "code",
   "execution_count": 19,
   "metadata": {},
   "outputs": [
    {
     "data": {
      "text/html": [
       "<div>\n",
       "<style scoped>\n",
       "    .dataframe tbody tr th:only-of-type {\n",
       "        vertical-align: middle;\n",
       "    }\n",
       "\n",
       "    .dataframe tbody tr th {\n",
       "        vertical-align: top;\n",
       "    }\n",
       "\n",
       "    .dataframe thead th {\n",
       "        text-align: right;\n",
       "    }\n",
       "</style>\n",
       "<table border=\"1\" class=\"dataframe\">\n",
       "  <thead>\n",
       "    <tr style=\"text-align: right;\">\n",
       "      <th></th>\n",
       "      <th>question_id</th>\n",
       "      <th>question_str</th>\n",
       "      <th>question_choices</th>\n",
       "      <th>question_answer</th>\n",
       "    </tr>\n",
       "  </thead>\n",
       "  <tbody>\n",
       "    <tr>\n",
       "      <th>0</th>\n",
       "      <td>1</td>\n",
       "      <td>ケネディ殺害の容疑者は __ に謎を残したままマフィアに撃たれて死亡した。</td>\n",
       "      <td>{\"1\": \"動機\", \"2\": \"本音\", \"3\": \"動力\", \"4\": \"下心\"}</td>\n",
       "      <td>1</td>\n",
       "    </tr>\n",
       "    <tr>\n",
       "      <th>1</th>\n",
       "      <td>2</td>\n",
       "      <td>インターネット広告 __ と広告の効果の関係について考えてみよう。</td>\n",
       "      <td>{\"1\": \"値\", \"2\": \"費\", \"3\": \"料\", \"4\": \"額\"}</td>\n",
       "      <td>2</td>\n",
       "    </tr>\n",
       "    <tr>\n",
       "      <th>2</th>\n",
       "      <td>3</td>\n",
       "      <td>いつ見つけても __ の早いがんでは予後が悪く、遅いがんは予後がいい。早くても遅くても意味は...</td>\n",
       "      <td>{\"1\": \"先進\", \"2\": \"増進\", \"3\": \"進出\", \"4\": \"進行\"}</td>\n",
       "      <td>4</td>\n",
       "    </tr>\n",
       "    <tr>\n",
       "      <th>3</th>\n",
       "      <td>4</td>\n",
       "      <td>年をとると、だんだん新しい考え方が __ にくくなる。</td>\n",
       "      <td>{\"1\": \"うけあい\", \"2\": \"うけいれ\", \"3\": \"うけとり\", \"4\": \"...</td>\n",
       "      <td>2</td>\n",
       "    </tr>\n",
       "    <tr>\n",
       "      <th>4</th>\n",
       "      <td>5</td>\n",
       "      <td>不況の影響で、この地域の中小企業は __ 倒産した。</td>\n",
       "      <td>{\"1\": \"いまさら\", \"2\": \"ひたすら\", \"3\": \"のきなみ\", \"4\": \"...</td>\n",
       "      <td>3</td>\n",
       "    </tr>\n",
       "  </tbody>\n",
       "</table>\n",
       "</div>"
      ],
      "text/plain": [
       "   question_id                                       question_str  \\\n",
       "0            1              ケネディ殺害の容疑者は __ に謎を残したままマフィアに撃たれて死亡した。   \n",
       "1            2                  インターネット広告 __ と広告の効果の関係について考えてみよう。   \n",
       "2            3  いつ見つけても __ の早いがんでは予後が悪く、遅いがんは予後がいい。早くても遅くても意味は...   \n",
       "3            4                        年をとると、だんだん新しい考え方が __ にくくなる。   \n",
       "4            5                         不況の影響で、この地域の中小企業は __ 倒産した。   \n",
       "\n",
       "                                    question_choices question_answer  \n",
       "0       {\"1\": \"動機\", \"2\": \"本音\", \"3\": \"動力\", \"4\": \"下心\"}               1  \n",
       "1           {\"1\": \"値\", \"2\": \"費\", \"3\": \"料\", \"4\": \"額\"}               2  \n",
       "2       {\"1\": \"先進\", \"2\": \"増進\", \"3\": \"進出\", \"4\": \"進行\"}               4  \n",
       "3  {\"1\": \"うけあい\", \"2\": \"うけいれ\", \"3\": \"うけとり\", \"4\": \"...               2  \n",
       "4  {\"1\": \"いまさら\", \"2\": \"ひたすら\", \"3\": \"のきなみ\", \"4\": \"...               3  "
      ]
     },
     "execution_count": 19,
     "metadata": {},
     "output_type": "execute_result"
    }
   ],
   "source": [
    "con.execute('SELECT * FROM jlpt_questions')\n",
    "con.fetch_arrow_table().to_pandas()"
   ]
  },
  {
   "cell_type": "code",
   "execution_count": 20,
   "metadata": {},
   "outputs": [
    {
     "data": {
      "text/plain": [
       "[{'question_id': 1,\n",
       "  'question_str': 'ケネディ殺害の容疑者は __ に謎を残したままマフィアに撃たれて死亡した。',\n",
       "  'question_choices': '{\"1\": \"動機\", \"2\": \"本音\", \"3\": \"動力\", \"4\": \"下心\"}',\n",
       "  'question_answer': '1'},\n",
       " {'question_id': 2,\n",
       "  'question_str': 'インターネット広告 __ と広告の効果の関係について考えてみよう。',\n",
       "  'question_choices': '{\"1\": \"値\", \"2\": \"費\", \"3\": \"料\", \"4\": \"額\"}',\n",
       "  'question_answer': '2'},\n",
       " {'question_id': 3,\n",
       "  'question_str': 'いつ見つけても __ の早いがんでは予後が悪く、遅いがんは予後がいい。早くても遅くても意味はないのです。',\n",
       "  'question_choices': '{\"1\": \"先進\", \"2\": \"増進\", \"3\": \"進出\", \"4\": \"進行\"}',\n",
       "  'question_answer': '4'},\n",
       " {'question_id': 4,\n",
       "  'question_str': '年をとると、だんだん新しい考え方が __ にくくなる。',\n",
       "  'question_choices': '{\"1\": \"うけあい\", \"2\": \"うけいれ\", \"3\": \"うけとり\", \"4\": \"うけもち\"}',\n",
       "  'question_answer': '2'},\n",
       " {'question_id': 5,\n",
       "  'question_str': '不況の影響で、この地域の中小企業は __ 倒産した。',\n",
       "  'question_choices': '{\"1\": \"いまさら\", \"2\": \"ひたすら\", \"3\": \"のきなみ\", \"4\": \"ひいては\"}',\n",
       "  'question_answer': '3'}]"
      ]
     },
     "execution_count": 20,
     "metadata": {},
     "output_type": "execute_result"
    }
   ],
   "source": [
    "con.execute('SELECT * FROM jlpt_questions')\n",
    "con.pl().to_dicts()"
   ]
  },
  {
   "cell_type": "code",
   "execution_count": null,
   "metadata": {},
   "outputs": [],
   "source": []
  }
 ],
 "metadata": {
  "kernelspec": {
   "display_name": "env",
   "language": "python",
   "name": "python3"
  },
  "language_info": {
   "codemirror_mode": {
    "name": "ipython",
    "version": 3
   },
   "file_extension": ".py",
   "mimetype": "text/x-python",
   "name": "python",
   "nbconvert_exporter": "python",
   "pygments_lexer": "ipython3",
   "version": "3.10.0"
  }
 },
 "nbformat": 4,
 "nbformat_minor": 2
}
