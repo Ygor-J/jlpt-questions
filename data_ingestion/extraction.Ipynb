{
 "cells": [
  {
   "cell_type": "code",
   "execution_count": 1,
   "metadata": {},
   "outputs": [
    {
     "data": {
      "text/plain": [
       "True"
      ]
     },
     "execution_count": 1,
     "metadata": {},
     "output_type": "execute_result"
    }
   ],
   "source": [
    "from dotenv import load_dotenv\n",
    "import os\n",
    "import requests\n",
    "from bs4 import BeautifulSoup\n",
    "import cloudscraper\n",
    "import re\n",
    "\n",
    "load_dotenv()"
   ]
  },
  {
   "cell_type": "code",
   "execution_count": 122,
   "metadata": {},
   "outputs": [],
   "source": [
    "class Source:\n",
    "\n",
    "    @staticmethod\n",
    "    def get_soup_object(flag_mock: bool) -> BeautifulSoup:\n",
    "        '''\n",
    "        Gets data from os.getenv() and returns beautiful Soup object.\n",
    "\n",
    "        If flag_mock = True, it returns the contents of a local file to prevent making requests during tests.\n",
    "        '''\n",
    "        soup_obj = None\n",
    "        response = str()\n",
    "\n",
    "        if flag_mock:\n",
    "            with open('test.html', 'r') as f:\n",
    "                response =  f.read()\n",
    "        else:\n",
    "            source = os.getenv('SOURCE_1')\n",
    "            scraper = cloudscraper.create_scraper()\n",
    "            response = scraper.get(source).text\n",
    "\n",
    "        soup = BeautifulSoup(response, 'html.parser')\n",
    "        return soup\n",
    "    \n",
    "    @staticmethod\n",
    "    def get_raw_question_data(soup: BeautifulSoup) -> dict:\n",
    "        '''\n",
    "        Scrapes the soup object to get text for p elements which contain question and answer.\n",
    "        '''\n",
    "\n",
    "        ptags = soup.find_all('p')\n",
    "        regex_question = r'^\\d+\\..*'\n",
    "        regex_answer = r'^Question.*'\n",
    "        relevant_info = {'Questions': [], 'Answers': []}\n",
    "        for ptag in ptags:\n",
    "            re_match_questions = re.match(regex_question, ptag.text)\n",
    "            re_match_answers = re.match(regex_answer, ptag.text)\n",
    "            if re_match_questions:\n",
    "                relevant_info['Questions'].append(re_match_questions.group(0))\n",
    "                continue\n",
    "            if re_match_answers:\n",
    "                relevant_info['Answers'].append(re_match_answers.group(0))\n",
    "\n",
    "        relevant_info['Answers'] = relevant_info['Answers'][0].split('Question ')[1:]\n",
    "\n",
    "        return relevant_info\n",
    "    \n",
    "    @staticmethod\n",
    "    def extract_question_str_choices(question_text: str) -> dict:\n",
    "        '''\n",
    "        Create a dictionary with question text and question choices\n",
    "        '''\n",
    "        match = re.match(r'^(\\d+)\\.\\s*(.*?)\\s*([^。]+)$', question_text)\n",
    "        if match:\n",
    "            question_number = int(match.group(1).strip())\n",
    "            question_str = match.group(2).strip()  \n",
    "            question_choices = match.group(3).strip()    \n",
    "            \n",
    "            question_choices = question_choices.split(' ')\n",
    "\n",
    "            question_choices = {str(index+1): choice for index, choice in enumerate(question_choices)}\n",
    "            question_choices = str(question_choices)\n",
    "\n",
    "            return {'question_number': question_number, 'question_str': question_str, 'question_choices': question_choices}\n",
    "            \n",
    "        return dict()\n",
    "    \n",
    "    @staticmethod\n",
    "    def extract_question_answer(answer_text: str):\n",
    "        '''\n",
    "        Create a tuple containing the answer of question\n",
    "        '''\n",
    "        pattern = r'^(\\d+):\\s(\\d+).*$'\n",
    "        result = re.match(pattern, answer_text)\n",
    "        if result:\n",
    "            return (result.group(1), result.group(2))"
   ]
  },
  {
   "cell_type": "code",
   "execution_count": 123,
   "metadata": {},
   "outputs": [
    {
     "data": {
      "text/plain": [
       "{'Questions': ['1. ケネディ殺害の容疑者は _______ に謎を残したままマフィアに撃たれて死亡した。 動機 本音 動力 下心',\n",
       "  '2. いつ見つけても _______ の早いがんでは予後が悪く、遅いがんは予後がいい。早くても遅くても意味はないのです。 先進 増進 進出 進行',\n",
       "  '3. インターネット広告 _______ と広告の効果の関係について考えてみよう。 値 費 料 額',\n",
       "  '4. この数年間で千葉や隣接県では女児連れ去り事件が多発していた。まだ _______ 解決の案件もあるが、未遂に終わり、容疑者が逮捕されたケースもある。 非 双 未 無',\n",
       "  '5. 辞書を引いたら、最初に _______ されている語義だけでなく、すべての語義をざっと確認する習慣を付けましょう。 記載 援用 参照 出典',\n",
       "  '6. 専門学校で、デザインという仕事の難しさに _______ することになりました。 対決 直面 抵抗 挑戦',\n",
       "  '7. この機械を _______ にはかなりの技術が必要だ。 使いこなす 使いおわる 使いはたす 使いすてる',\n",
       "  '8. 最近の青少年はしっかりしているようだが、精神的に _______ 面がある。 しぶい だるい ゆるい もろい',\n",
       "  '9. 何回会議をやっても結論が出ないので、_______ いやになった。 つくづく わざわざ ぞくぞくと くれぐれも',\n",
       "  '10. 不況の影響で、この地域の中小企業は _______ 倒産した。 いまさら ひたすら のきなみ ひいては',\n",
       "  '11. 年をとると、だんだん新しい考え方が _______ にくくなる。 うけあい うけいれ うけとり うけもち',\n",
       "  '12. このアンケートに協力するかしないかは自由で、________ はしないということにしたい。 圧迫 強制 催促 一致'],\n",
       " 'Answers': ['1: 1 (ケネディ殺害の容疑者は動機に謎を残したままマフィアに撃たれて死亡した。)',\n",
       "  '2: 4 (いつ見つけても進行の早いがんでは予後が悪く、遅いがんは予後がいい。早くても遅くても意味はないのです。)',\n",
       "  '3: 2 (インターネット広告費と広告の効果の関係について考えてみよう。)',\n",
       "  '4: 3 (この数年間で千葉や隣接県では女児連れ去り事件が多発していた。まだ未解決の案件もあるが、未遂に終わり、容疑者が逮捕されたケースもある。)',\n",
       "  '5: 1 (辞書を引いたら、最初に記載されている語義だけでなく、すべての語義をざっと確認する習慣を付けましょう。)',\n",
       "  '6: 2 (専門学校で、デザインという仕事の難しさに直面することになりました。)',\n",
       "  '7: 1 (この機械を使いこなすにはかなりの技術が必要だ。)',\n",
       "  '8: 4 (最近の青少年はしっかりしているようだが、精神的にもろい面がある。)',\n",
       "  '9: 1 (何回会議をやっても結論が出ないので、つくづくいやになった。)',\n",
       "  '10: 3 (不況の影響で、この地域の中小企業はのきなみ倒産した。)',\n",
       "  '11: 2 (年をとると、だんだん新しい考え方が うけいれにくくなる。)',\n",
       "  '12: 2 (このアンケートに協力するかしないかは自由で、強制はしないということにしたい。)']}"
      ]
     },
     "execution_count": 123,
     "metadata": {},
     "output_type": "execute_result"
    }
   ],
   "source": [
    "soup = Source.get_soup_object(flag_mock=True)\n",
    "raw_question_data = Source.get_raw_question_data(soup)\n",
    "raw_question_data"
   ]
  },
  {
   "cell_type": "code",
   "execution_count": 124,
   "metadata": {},
   "outputs": [],
   "source": [
    "questions, answers = raw_question_data['Questions'], raw_question_data['Answers']\n",
    "\n",
    "myQuestions = list()\n",
    "\n",
    "for question, answer in zip(questions, answers):\n",
    "    question_data = Source.extract_question_str_choices(question)\n",
    "    question_answer = Source.extract_question_answer(answer)\n",
    "    \n",
    "    if question_data['question_number'] == int(question_answer[0]):\n",
    "        question_data['question_answer'] = question_answer[1]\n",
    "\n",
    "        del question_data['question_number']\n",
    "        myQuestions.append(question_data)"
   ]
  },
  {
   "cell_type": "code",
   "execution_count": 127,
   "metadata": {},
   "outputs": [
    {
     "data": {
      "text/plain": [
       "[{'question_str': 'ケネディ殺害の容疑者は _______ に謎を残したままマフィアに撃たれて死亡した。',\n",
       "  'question_choices': \"{'1': '動機', '2': '本音', '3': '動力', '4': '下心'}\",\n",
       "  'question_answer': '1'},\n",
       " {'question_str': 'いつ見つけても _______ の早いがんでは予後が悪く、遅いがんは予後がいい。早くても遅くても意味はないのです。',\n",
       "  'question_choices': \"{'1': '先進', '2': '増進', '3': '進出', '4': '進行'}\",\n",
       "  'question_answer': '4'},\n",
       " {'question_str': 'インターネット広告 _______ と広告の効果の関係について考えてみよう。',\n",
       "  'question_choices': \"{'1': '値', '2': '費', '3': '料', '4': '額'}\",\n",
       "  'question_answer': '2'},\n",
       " {'question_str': 'この数年間で千葉や隣接県では女児連れ去り事件が多発していた。まだ _______ 解決の案件もあるが、未遂に終わり、容疑者が逮捕されたケースもある。',\n",
       "  'question_choices': \"{'1': '非', '2': '双', '3': '未', '4': '無'}\",\n",
       "  'question_answer': '3'},\n",
       " {'question_str': '辞書を引いたら、最初に _______ されている語義だけでなく、すべての語義をざっと確認する習慣を付けましょう。',\n",
       "  'question_choices': \"{'1': '記載', '2': '援用', '3': '参照', '4': '出典'}\",\n",
       "  'question_answer': '1'},\n",
       " {'question_str': '専門学校で、デザインという仕事の難しさに _______ することになりました。',\n",
       "  'question_choices': \"{'1': '対決', '2': '直面', '3': '抵抗', '4': '挑戦'}\",\n",
       "  'question_answer': '2'},\n",
       " {'question_str': 'この機械を _______ にはかなりの技術が必要だ。',\n",
       "  'question_choices': \"{'1': '使いこなす', '2': '使いおわる', '3': '使いはたす', '4': '使いすてる'}\",\n",
       "  'question_answer': '1'},\n",
       " {'question_str': '最近の青少年はしっかりしているようだが、精神的に _______ 面がある。',\n",
       "  'question_choices': \"{'1': 'しぶい', '2': 'だるい', '3': 'ゆるい', '4': 'もろい'}\",\n",
       "  'question_answer': '4'},\n",
       " {'question_str': '何回会議をやっても結論が出ないので、_______ いやになった。',\n",
       "  'question_choices': \"{'1': 'つくづく', '2': 'わざわざ', '3': 'ぞくぞくと', '4': 'くれぐれも'}\",\n",
       "  'question_answer': '1'},\n",
       " {'question_str': '不況の影響で、この地域の中小企業は _______ 倒産した。',\n",
       "  'question_choices': \"{'1': 'いまさら', '2': 'ひたすら', '3': 'のきなみ', '4': 'ひいては'}\",\n",
       "  'question_answer': '3'},\n",
       " {'question_str': '年をとると、だんだん新しい考え方が _______ にくくなる。',\n",
       "  'question_choices': \"{'1': 'うけあい', '2': 'うけいれ', '3': 'うけとり', '4': 'うけもち'}\",\n",
       "  'question_answer': '2'},\n",
       " {'question_str': 'このアンケートに協力するかしないかは自由で、________ はしないということにしたい。',\n",
       "  'question_choices': \"{'1': '圧迫', '2': '強制', '3': '催促', '4': '一致'}\",\n",
       "  'question_answer': '2'}]"
      ]
     },
     "execution_count": 127,
     "metadata": {},
     "output_type": "execute_result"
    }
   ],
   "source": [
    "myQuestions"
   ]
  },
  {
   "cell_type": "code",
   "execution_count": null,
   "metadata": {},
   "outputs": [],
   "source": []
  }
 ],
 "metadata": {
  "kernelspec": {
   "display_name": "env",
   "language": "python",
   "name": "python3"
  },
  "language_info": {
   "codemirror_mode": {
    "name": "ipython",
    "version": 3
   },
   "file_extension": ".py",
   "mimetype": "text/x-python",
   "name": "python",
   "nbconvert_exporter": "python",
   "pygments_lexer": "ipython3",
   "version": "3.10.0"
  }
 },
 "nbformat": 4,
 "nbformat_minor": 2
}
